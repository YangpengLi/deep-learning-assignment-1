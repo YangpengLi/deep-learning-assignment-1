{
 "cells": [
  {
   "cell_type": "code",
   "execution_count": 1,
   "id": "fd686933",
   "metadata": {},
   "outputs": [
    {
     "name": "stdout",
     "output_type": "stream",
     "text": [
      "Early stopping at epoch 103\n",
      "Fitting 5 folds for each of 48 candidates, totalling 240 fits\n",
      "Best parameters found:  {'alpha': 0.0001, 'eta0': 0.01, 'penalty': 'elasticnet'}\n",
      "Best cross-validation score: 0.74\n",
      "Test Accuracy: 0.7143\n"
     ]
    }
   ],
   "source": [
    "import pandas as pd\n",
    "from sklearn.linear_model import Perceptron\n",
    "from sklearn.metrics import accuracy_score\n",
    "from sklearn.model_selection import train_test_split\n",
    "import matplotlib.pyplot as plt\n",
    "from sklearn.datasets import load_svmlight_file\n",
    "from sklearn.model_selection import GridSearchCV\n",
    "\n",
    "# Load the dataset\n",
    "X, y = load_svmlight_file(\"scaled.txt\")\n",
    "X = pd.DataFrame(X.toarray())\n",
    "features = ['Pregnancies', 'Glucose', 'BloodPressure', 'SkinThickness', 'Insulin', 'BMI', 'DiabetesPedigreeFunction', 'Age']\n",
    "X.columns = features\n",
    "y[y == -1] = 0\n",
    "\n",
    "for column in X.columns:\n",
    "    median = X[X[column] != 0][column].median()\n",
    "    X[column] = X[column].replace(0, median)\n",
    "\n",
    "# Split data training 0.6, test 0.2, validation 0.2\n",
    "X_train, X_temp, y_train, y_temp = train_test_split(X, y, test_size=0.4, random_state=42)\n",
    "X_val, X_test, y_val, y_test = train_test_split(X_temp, y_temp, test_size=0.5, random_state=42)\n",
    "\n",
    "epoch = 1000\n",
    "patience = 50\n",
    "best_val_accuracy = 0\n",
    "no_improvement_rounds = 0\n",
    "\n",
    "train_accuracies = []\n",
    "val_accuracies = []\n",
    "\n",
    "model = Perceptron()\n",
    "\n",
    "for i in range(epoch):\n",
    "    model.partial_fit(X_train, y_train, classes=[0, 1])\n",
    "    \n",
    "    train_acc = accuracy_score(y_train, model.predict(X_train))\n",
    "    val_acc = accuracy_score(y_val, model.predict(X_val))\n",
    "    \n",
    "    train_accuracies.append(train_acc)\n",
    "    val_accuracies.append(val_acc)\n",
    "    \n",
    "    if val_acc > best_val_accuracy:\n",
    "        best_val_accuracy = val_acc\n",
    "        no_improvement_rounds = 0\n",
    "    else:\n",
    "        no_improvement_rounds += 1\n",
    "        \n",
    "    if no_improvement_rounds > patience:\n",
    "        print(f\"Early stopping at epoch {i}\")\n",
    "        break\n",
    "\n",
    "        \n",
    "param_grid = {\n",
    "    'eta0': [0.1, 0.01, 0.001],\n",
    "    'penalty': ['l1', 'l2', 'elasticnet', None],\n",
    "    'alpha': [0.0001, 0.001, 0.01, 0.1]\n",
    "}\n",
    "\n",
    "grid_search = GridSearchCV(Perceptron(max_iter=1000, tol=1e-3), param_grid, cv=5, scoring='accuracy', verbose=1)\n",
    "grid_search.fit(X_train, y_train)\n",
    "\n",
    "# Print best parameters and their score\n",
    "print(\"Best parameters found: \", grid_search.best_params_)\n",
    "print(\"Best cross-validation score: {:.2f}\".format(grid_search.best_score_))\n",
    "\n",
    "# Fit the best model and evaluate on test set\n",
    "best_model = grid_search.best_estimator_\n",
    "test_acc = accuracy_score(y_test, best_model.predict(X_test))\n",
    "print(f\"Test Accuracy: {test_acc:.4f}\")\n",
    "\n"
   ]
  },
  {
   "cell_type": "code",
   "execution_count": null,
   "id": "ecd90aef",
   "metadata": {},
   "outputs": [],
   "source": []
  }
 ],
 "metadata": {
  "kernelspec": {
   "display_name": "Python 3 (ipykernel)",
   "language": "python",
   "name": "python3"
  },
  "language_info": {
   "codemirror_mode": {
    "name": "ipython",
    "version": 3
   },
   "file_extension": ".py",
   "mimetype": "text/x-python",
   "name": "python",
   "nbconvert_exporter": "python",
   "pygments_lexer": "ipython3",
   "version": "3.10.9"
  }
 },
 "nbformat": 4,
 "nbformat_minor": 5
}
